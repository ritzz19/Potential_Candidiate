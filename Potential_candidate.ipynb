{
  "nbformat": 4,
  "nbformat_minor": 0,
  "metadata": {
    "colab": {
      "name": "Potential_candidate.ipynb",
      "provenance": [],
      "collapsed_sections": [],
      "authorship_tag": "ABX9TyOqvJTrA8Vmk6maOZgR5bOv",
      "include_colab_link": true
    },
    "kernelspec": {
      "name": "python3",
      "display_name": "Python 3"
    }
  },
  "cells": [
    {
      "cell_type": "markdown",
      "metadata": {
        "id": "view-in-github",
        "colab_type": "text"
      },
      "source": [
        "<a href=\"https://colab.research.google.com/github/ritzz19/Potential_Candidiate/blob/master/Potential_candidate.ipynb\" target=\"_parent\"><img src=\"https://colab.research.google.com/assets/colab-badge.svg\" alt=\"Open In Colab\"/></a>"
      ]
    },
    {
      "cell_type": "code",
      "metadata": {
        "id": "PiUeyk2o-5-G",
        "colab_type": "code",
        "outputId": "a9316b05-4cfd-4375-d6fc-3be281027d9c",
        "colab": {
          "base_uri": "https://localhost:8080/",
          "height": 598
        }
      },
      "source": [
        "import pandas as pd\n",
        "data=pd.read_excel('mavoix_ml_sample_dataset.xlsx')\n",
        "data.head(5)"
      ],
      "execution_count": 306,
      "outputs": [
        {
          "output_type": "execute_result",
          "data": {
            "text/html": [
              "<div>\n",
              "<style scoped>\n",
              "    .dataframe tbody tr th:only-of-type {\n",
              "        vertical-align: middle;\n",
              "    }\n",
              "\n",
              "    .dataframe tbody tr th {\n",
              "        vertical-align: top;\n",
              "    }\n",
              "\n",
              "    .dataframe thead th {\n",
              "        text-align: right;\n",
              "    }\n",
              "</style>\n",
              "<table border=\"1\" class=\"dataframe\">\n",
              "  <thead>\n",
              "    <tr style=\"text-align: right;\">\n",
              "      <th></th>\n",
              "      <th>Application_ID</th>\n",
              "      <th>Current City</th>\n",
              "      <th>Python (out of 3)</th>\n",
              "      <th>R Programming (out of 3)</th>\n",
              "      <th>Deep Learning (out of 3)</th>\n",
              "      <th>PHP (out of 3)</th>\n",
              "      <th>MySQL (out of 3)</th>\n",
              "      <th>HTML (out of 3)</th>\n",
              "      <th>CSS (out of 3)</th>\n",
              "      <th>JavaScript (out of 3)</th>\n",
              "      <th>Unnamed: 10</th>\n",
              "      <th>AJAX (out of 3)</th>\n",
              "      <th>Bootstrap (out of 3)</th>\n",
              "      <th>MongoDB (out of 3)</th>\n",
              "      <th>Node.js (out of 3)</th>\n",
              "      <th>ReactJS (out of 3)</th>\n",
              "      <th>Other skills</th>\n",
              "      <th>Degree</th>\n",
              "      <th>Stream</th>\n",
              "      <th>Current Year Of Graduation</th>\n",
              "      <th>Performance_PG</th>\n",
              "      <th>Performance_UG</th>\n",
              "      <th>Performance_12</th>\n",
              "      <th>Performance_10</th>\n",
              "    </tr>\n",
              "  </thead>\n",
              "  <tbody>\n",
              "    <tr>\n",
              "      <th>0</th>\n",
              "      <td>ML0001</td>\n",
              "      <td>Bangalore</td>\n",
              "      <td>0</td>\n",
              "      <td>2</td>\n",
              "      <td>0</td>\n",
              "      <td>2</td>\n",
              "      <td>0</td>\n",
              "      <td>2</td>\n",
              "      <td>3</td>\n",
              "      <td>2</td>\n",
              "      <td>NaN</td>\n",
              "      <td>0</td>\n",
              "      <td>2</td>\n",
              "      <td>0</td>\n",
              "      <td>0</td>\n",
              "      <td>0</td>\n",
              "      <td>R Programming</td>\n",
              "      <td>Bachelor of Science (B.Sc)</td>\n",
              "      <td>Mathematics</td>\n",
              "      <td>2017</td>\n",
              "      <td>NaN</td>\n",
              "      <td>NaN</td>\n",
              "      <td>NaN</td>\n",
              "      <td>NaN</td>\n",
              "    </tr>\n",
              "    <tr>\n",
              "      <th>1</th>\n",
              "      <td>ML0002</td>\n",
              "      <td>Bangalore</td>\n",
              "      <td>2</td>\n",
              "      <td>0</td>\n",
              "      <td>0</td>\n",
              "      <td>2</td>\n",
              "      <td>2</td>\n",
              "      <td>2</td>\n",
              "      <td>2</td>\n",
              "      <td>2</td>\n",
              "      <td>NaN</td>\n",
              "      <td>0</td>\n",
              "      <td>0</td>\n",
              "      <td>0</td>\n",
              "      <td>0</td>\n",
              "      <td>0</td>\n",
              "      <td>Data Science, Machine Learning, Neural Network...</td>\n",
              "      <td>Bachelor of Technology (B.Tech)</td>\n",
              "      <td>Computer Science &amp; Engineering</td>\n",
              "      <td>2019</td>\n",
              "      <td>NaN</td>\n",
              "      <td>85.50/100</td>\n",
              "      <td>92.20/92.20</td>\n",
              "      <td>96.60/96.60</td>\n",
              "    </tr>\n",
              "    <tr>\n",
              "      <th>2</th>\n",
              "      <td>ML0003</td>\n",
              "      <td>Bangalore</td>\n",
              "      <td>3</td>\n",
              "      <td>0</td>\n",
              "      <td>1</td>\n",
              "      <td>2</td>\n",
              "      <td>2</td>\n",
              "      <td>2</td>\n",
              "      <td>0</td>\n",
              "      <td>2</td>\n",
              "      <td>NaN</td>\n",
              "      <td>0</td>\n",
              "      <td>0</td>\n",
              "      <td>0</td>\n",
              "      <td>0</td>\n",
              "      <td>0</td>\n",
              "      <td>Algorithms, Data Structures, Python, C Program...</td>\n",
              "      <td>Master of Science (M.Sc)</td>\n",
              "      <td>Computer  Science</td>\n",
              "      <td>2018</td>\n",
              "      <td>7.91/10</td>\n",
              "      <td>70.00/100</td>\n",
              "      <td>64.83/64.83</td>\n",
              "      <td>77.60/77.60</td>\n",
              "    </tr>\n",
              "    <tr>\n",
              "      <th>3</th>\n",
              "      <td>ML0004</td>\n",
              "      <td>Bangalore</td>\n",
              "      <td>2</td>\n",
              "      <td>0</td>\n",
              "      <td>2</td>\n",
              "      <td>1</td>\n",
              "      <td>0</td>\n",
              "      <td>2</td>\n",
              "      <td>0</td>\n",
              "      <td>0</td>\n",
              "      <td>NaN</td>\n",
              "      <td>0</td>\n",
              "      <td>0</td>\n",
              "      <td>0</td>\n",
              "      <td>0</td>\n",
              "      <td>0</td>\n",
              "      <td>CSS, Deep Learning, Embedded Systems, HTML, Ma...</td>\n",
              "      <td>Bachelor of Engineering (B.E)</td>\n",
              "      <td>Electronics and Communication</td>\n",
              "      <td>2019</td>\n",
              "      <td>NaN</td>\n",
              "      <td>6.86/10</td>\n",
              "      <td>76.00/76.00</td>\n",
              "      <td>84.32/84.32</td>\n",
              "    </tr>\n",
              "    <tr>\n",
              "      <th>4</th>\n",
              "      <td>ML0005</td>\n",
              "      <td>Bangalore</td>\n",
              "      <td>2</td>\n",
              "      <td>0</td>\n",
              "      <td>0</td>\n",
              "      <td>2</td>\n",
              "      <td>0</td>\n",
              "      <td>2</td>\n",
              "      <td>1</td>\n",
              "      <td>1</td>\n",
              "      <td>NaN</td>\n",
              "      <td>0</td>\n",
              "      <td>0</td>\n",
              "      <td>2</td>\n",
              "      <td>2</td>\n",
              "      <td>2</td>\n",
              "      <td>HTML, OpenCV, Python, SQL, C++ Programming, CS...</td>\n",
              "      <td>Bachelor of Technology (B.Tech)</td>\n",
              "      <td>Production Engineering</td>\n",
              "      <td>2018</td>\n",
              "      <td>NaN</td>\n",
              "      <td>6.38/10</td>\n",
              "      <td>65.20/65.20</td>\n",
              "      <td>68.80/68.80</td>\n",
              "    </tr>\n",
              "  </tbody>\n",
              "</table>\n",
              "</div>"
            ],
            "text/plain": [
              "  Application_ID Current City  ...  Performance_12  Performance_10\n",
              "0         ML0001    Bangalore  ...             NaN             NaN\n",
              "1         ML0002    Bangalore  ...     92.20/92.20     96.60/96.60\n",
              "2         ML0003    Bangalore  ...     64.83/64.83     77.60/77.60\n",
              "3         ML0004    Bangalore  ...     76.00/76.00     84.32/84.32\n",
              "4         ML0005    Bangalore  ...     65.20/65.20     68.80/68.80\n",
              "\n",
              "[5 rows x 24 columns]"
            ]
          },
          "metadata": {
            "tags": []
          },
          "execution_count": 306
        }
      ]
    },
    {
      "cell_type": "code",
      "metadata": {
        "id": "0kDTJy_cEge-",
        "colab_type": "code",
        "colab": {}
      },
      "source": [
        "data.drop(['Application_ID','Unnamed: 10'],axis=1,inplace=True) #Deleting unwanted columns"
      ],
      "execution_count": 0,
      "outputs": []
    },
    {
      "cell_type": "code",
      "metadata": {
        "id": "0nOs1pImF4sZ",
        "colab_type": "code",
        "outputId": "feba7ac7-1da0-4493-f0dd-0285487a5a65",
        "colab": {
          "base_uri": "https://localhost:8080/",
          "height": 85
        }
      },
      "source": [
        "data['Current City'].value_counts().head(3)"
      ],
      "execution_count": 308,
      "outputs": [
        {
          "output_type": "execute_result",
          "data": {
            "text/plain": [
              "Bangalore    214\n",
              "Hyderabad     22\n",
              "Banglore      14\n",
              "Name: Current City, dtype: int64"
            ]
          },
          "metadata": {
            "tags": []
          },
          "execution_count": 308
        }
      ]
    },
    {
      "cell_type": "code",
      "metadata": {
        "id": "CvX8htlRKAym",
        "colab_type": "code",
        "colab": {}
      },
      "source": [
        "#Banalore and Banglore are same\n",
        "data['Current_City']=data['Current City'].str.replace('Banglore','Bangalore')"
      ],
      "execution_count": 0,
      "outputs": []
    },
    {
      "cell_type": "code",
      "metadata": {
        "id": "9nGsyqo6Kb4V",
        "colab_type": "code",
        "outputId": "804f9fc7-1a55-4e3d-d4b5-3369077e5682",
        "colab": {
          "base_uri": "https://localhost:8080/",
          "height": 119
        }
      },
      "source": [
        "data['Current_City'].value_counts().head(5)"
      ],
      "execution_count": 310,
      "outputs": [
        {
          "output_type": "execute_result",
          "data": {
            "text/plain": [
              "Bangalore    228\n",
              "Hyderabad     22\n",
              "Chennai       12\n",
              "Pune          10\n",
              "Delhi          8\n",
              "Name: Current_City, dtype: int64"
            ]
          },
          "metadata": {
            "tags": []
          },
          "execution_count": 310
        }
      ]
    },
    {
      "cell_type": "markdown",
      "metadata": {
        "id": "xhXvs_1Sdg0k",
        "colab_type": "text"
      },
      "source": [
        "We can see that maximum number of candidates are from Bangalore"
      ]
    },
    {
      "cell_type": "code",
      "metadata": {
        "id": "vTUmKU6hKoRr",
        "colab_type": "code",
        "colab": {}
      },
      "source": [
        "data.drop(['Current City','Current_City'],axis=1,inplace=True)"
      ],
      "execution_count": 0,
      "outputs": []
    },
    {
      "cell_type": "code",
      "metadata": {
        "id": "uB9FOlwjxcD-",
        "colab_type": "code",
        "outputId": "343cb557-aba8-4e32-c580-023707fc3955",
        "colab": {
          "base_uri": "https://localhost:8080/",
          "height": 221
        }
      },
      "source": [
        "#Converting PG marks to proper format\n",
        "data['P'] = data['Performance_PG'].str.split('/').str[0]\n",
        "data['Pd'] = data['Performance_PG'].str.split('/').str[1]\n",
        "data['P'] = data['P'].astype(float)\n",
        "data['Pd']=data['Pd'].astype(float)\n",
        "data['PG']=data['P']/data['Pd']\n",
        "data['PG']=data['PG']*100\n",
        "data['PG']"
      ],
      "execution_count": 312,
      "outputs": [
        {
          "output_type": "execute_result",
          "data": {
            "text/plain": [
              "0       NaN\n",
              "1       NaN\n",
              "2      79.1\n",
              "3       NaN\n",
              "4       NaN\n",
              "       ... \n",
              "387     NaN\n",
              "388    77.8\n",
              "389     NaN\n",
              "390     NaN\n",
              "391    64.0\n",
              "Name: PG, Length: 392, dtype: float64"
            ]
          },
          "metadata": {
            "tags": []
          },
          "execution_count": 312
        }
      ]
    },
    {
      "cell_type": "code",
      "metadata": {
        "id": "dnwpzuDV0mew",
        "colab_type": "code",
        "outputId": "099ebf56-9d7b-4dbe-946c-557ee13c9721",
        "colab": {
          "base_uri": "https://localhost:8080/",
          "height": 221
        }
      },
      "source": [
        "data.Performance_UG.value_counts()"
      ],
      "execution_count": 313,
      "outputs": [
        {
          "output_type": "execute_result",
          "data": {
            "text/plain": [
              "70.00/100    12\n",
              "7.20/10       8\n",
              "6.80/10       8\n",
              "60.00/100     7\n",
              "56.00/100     6\n",
              "             ..\n",
              "64.36/100     1\n",
              "7.87/10       1\n",
              "7.74/100      1\n",
              "4.17/10       1\n",
              "79.81/100     1\n",
              "Name: Performance_UG, Length: 173, dtype: int64"
            ]
          },
          "metadata": {
            "tags": []
          },
          "execution_count": 313
        }
      ]
    },
    {
      "cell_type": "code",
      "metadata": {
        "id": "Bms84Oymy3J8",
        "colab_type": "code",
        "outputId": "34bd17d4-0852-48a5-a228-17a14dced362",
        "colab": {
          "base_uri": "https://localhost:8080/",
          "height": 221
        }
      },
      "source": [
        "#Converting UG marks to proper format\n",
        "data['U'] = data['Performance_UG'].str.split('/').str[0]\n",
        "data['Ud'] = data['Performance_UG'].str.split('/').str[1]\n",
        "data['U'] = data['U'].astype(float)\n",
        "data['Ud']=data['Ud'].astype(float)\n",
        "data['UG']=data['U']/data['Ud']\n",
        "data['UG']=data['UG']*100\n",
        "data['UG']"
      ],
      "execution_count": 314,
      "outputs": [
        {
          "output_type": "execute_result",
          "data": {
            "text/plain": [
              "0        NaN\n",
              "1      85.50\n",
              "2      70.00\n",
              "3      68.60\n",
              "4      63.80\n",
              "       ...  \n",
              "387    75.00\n",
              "388    68.00\n",
              "389    61.00\n",
              "390    65.00\n",
              "391    63.06\n",
              "Name: UG, Length: 392, dtype: float64"
            ]
          },
          "metadata": {
            "tags": []
          },
          "execution_count": 314
        }
      ]
    },
    {
      "cell_type": "code",
      "metadata": {
        "id": "yg2lzmgD1VU8",
        "colab_type": "code",
        "outputId": "43811471-0436-470a-9154-b5177734c85b",
        "colab": {
          "base_uri": "https://localhost:8080/",
          "height": 221
        }
      },
      "source": [
        "data.Performance_12"
      ],
      "execution_count": 315,
      "outputs": [
        {
          "output_type": "execute_result",
          "data": {
            "text/plain": [
              "0              NaN\n",
              "1      92.20/92.20\n",
              "2      64.83/64.83\n",
              "3      76.00/76.00\n",
              "4      65.20/65.20\n",
              "          ...     \n",
              "387            NaN\n",
              "388            NaN\n",
              "389    62.62/62.62\n",
              "390    62.50/62.50\n",
              "391    64.00/64.00\n",
              "Name: Performance_12, Length: 392, dtype: object"
            ]
          },
          "metadata": {
            "tags": []
          },
          "execution_count": 315
        }
      ]
    },
    {
      "cell_type": "code",
      "metadata": {
        "id": "g-QR0YEv1aoI",
        "colab_type": "code",
        "outputId": "87c04682-74a5-4e17-8e35-54c0a1b059c4",
        "colab": {
          "base_uri": "https://localhost:8080/",
          "height": 221
        }
      },
      "source": [
        "##Converting Twelth marks to proper format\n",
        "data['Twelth'] = data['Performance_12'].str.split('/').str[0]\n",
        "data['Twelth_12'] = data['Twelth'].astype(float)\n",
        "data['Twelth_12']"
      ],
      "execution_count": 316,
      "outputs": [
        {
          "output_type": "execute_result",
          "data": {
            "text/plain": [
              "0        NaN\n",
              "1      92.20\n",
              "2      64.83\n",
              "3      76.00\n",
              "4      65.20\n",
              "       ...  \n",
              "387      NaN\n",
              "388      NaN\n",
              "389    62.62\n",
              "390    62.50\n",
              "391    64.00\n",
              "Name: Twelth_12, Length: 392, dtype: float64"
            ]
          },
          "metadata": {
            "tags": []
          },
          "execution_count": 316
        }
      ]
    },
    {
      "cell_type": "code",
      "metadata": {
        "id": "Ev9tXlFd2ERI",
        "colab_type": "code",
        "outputId": "4af60306-c719-4d83-c74d-9d103a01ca9f",
        "colab": {
          "base_uri": "https://localhost:8080/",
          "height": 221
        }
      },
      "source": [
        "data.Performance_10"
      ],
      "execution_count": 317,
      "outputs": [
        {
          "output_type": "execute_result",
          "data": {
            "text/plain": [
              "0              NaN\n",
              "1      96.60/96.60\n",
              "2      77.60/77.60\n",
              "3      84.32/84.32\n",
              "4      68.80/68.80\n",
              "          ...     \n",
              "387            NaN\n",
              "388            NaN\n",
              "389            NaN\n",
              "390    76.50/76.50\n",
              "391    64.60/64.60\n",
              "Name: Performance_10, Length: 392, dtype: object"
            ]
          },
          "metadata": {
            "tags": []
          },
          "execution_count": 317
        }
      ]
    },
    {
      "cell_type": "code",
      "metadata": {
        "id": "zhXIHMHz1zRK",
        "colab_type": "code",
        "outputId": "9b2c8c55-3215-41f9-ab36-feae93e0e4ab",
        "colab": {
          "base_uri": "https://localhost:8080/",
          "height": 221
        }
      },
      "source": [
        "##Converting Tenth marks to proper format\n",
        "data['Tenth'] = data['Performance_10'].str.split('/').str[0]\n",
        "data['Tenth_10'] = data['Tenth'].astype(float)\n",
        "data['Tenth_10']"
      ],
      "execution_count": 318,
      "outputs": [
        {
          "output_type": "execute_result",
          "data": {
            "text/plain": [
              "0        NaN\n",
              "1      96.60\n",
              "2      77.60\n",
              "3      84.32\n",
              "4      68.80\n",
              "       ...  \n",
              "387      NaN\n",
              "388      NaN\n",
              "389      NaN\n",
              "390    76.50\n",
              "391    64.60\n",
              "Name: Tenth_10, Length: 392, dtype: float64"
            ]
          },
          "metadata": {
            "tags": []
          },
          "execution_count": 318
        }
      ]
    },
    {
      "cell_type": "code",
      "metadata": {
        "id": "wth2Lp1A2Gvl",
        "colab_type": "code",
        "colab": {}
      },
      "source": [
        "#Dropping all the columns which we created  \n",
        "data.drop(['Twelth','Tenth','Performance_UG','Performance_PG','P','Pd','U','Ud','Performance_12','Performance_10'],axis=1,inplace=True)"
      ],
      "execution_count": 0,
      "outputs": []
    },
    {
      "cell_type": "code",
      "metadata": {
        "id": "d0iIZLsS2U6k",
        "colab_type": "code",
        "outputId": "b88180fa-bea7-4a3f-b2e4-11fb1e981a84",
        "colab": {
          "base_uri": "https://localhost:8080/",
          "height": 400
        }
      },
      "source": [
        "data.head(3)"
      ],
      "execution_count": 320,
      "outputs": [
        {
          "output_type": "execute_result",
          "data": {
            "text/html": [
              "<div>\n",
              "<style scoped>\n",
              "    .dataframe tbody tr th:only-of-type {\n",
              "        vertical-align: middle;\n",
              "    }\n",
              "\n",
              "    .dataframe tbody tr th {\n",
              "        vertical-align: top;\n",
              "    }\n",
              "\n",
              "    .dataframe thead th {\n",
              "        text-align: right;\n",
              "    }\n",
              "</style>\n",
              "<table border=\"1\" class=\"dataframe\">\n",
              "  <thead>\n",
              "    <tr style=\"text-align: right;\">\n",
              "      <th></th>\n",
              "      <th>Python (out of 3)</th>\n",
              "      <th>R Programming (out of 3)</th>\n",
              "      <th>Deep Learning (out of 3)</th>\n",
              "      <th>PHP (out of 3)</th>\n",
              "      <th>MySQL (out of 3)</th>\n",
              "      <th>HTML (out of 3)</th>\n",
              "      <th>CSS (out of 3)</th>\n",
              "      <th>JavaScript (out of 3)</th>\n",
              "      <th>AJAX (out of 3)</th>\n",
              "      <th>Bootstrap (out of 3)</th>\n",
              "      <th>MongoDB (out of 3)</th>\n",
              "      <th>Node.js (out of 3)</th>\n",
              "      <th>ReactJS (out of 3)</th>\n",
              "      <th>Other skills</th>\n",
              "      <th>Degree</th>\n",
              "      <th>Stream</th>\n",
              "      <th>Current Year Of Graduation</th>\n",
              "      <th>PG</th>\n",
              "      <th>UG</th>\n",
              "      <th>Twelth_12</th>\n",
              "      <th>Tenth_10</th>\n",
              "    </tr>\n",
              "  </thead>\n",
              "  <tbody>\n",
              "    <tr>\n",
              "      <th>0</th>\n",
              "      <td>0</td>\n",
              "      <td>2</td>\n",
              "      <td>0</td>\n",
              "      <td>2</td>\n",
              "      <td>0</td>\n",
              "      <td>2</td>\n",
              "      <td>3</td>\n",
              "      <td>2</td>\n",
              "      <td>0</td>\n",
              "      <td>2</td>\n",
              "      <td>0</td>\n",
              "      <td>0</td>\n",
              "      <td>0</td>\n",
              "      <td>R Programming</td>\n",
              "      <td>Bachelor of Science (B.Sc)</td>\n",
              "      <td>Mathematics</td>\n",
              "      <td>2017</td>\n",
              "      <td>NaN</td>\n",
              "      <td>NaN</td>\n",
              "      <td>NaN</td>\n",
              "      <td>NaN</td>\n",
              "    </tr>\n",
              "    <tr>\n",
              "      <th>1</th>\n",
              "      <td>2</td>\n",
              "      <td>0</td>\n",
              "      <td>0</td>\n",
              "      <td>2</td>\n",
              "      <td>2</td>\n",
              "      <td>2</td>\n",
              "      <td>2</td>\n",
              "      <td>2</td>\n",
              "      <td>0</td>\n",
              "      <td>0</td>\n",
              "      <td>0</td>\n",
              "      <td>0</td>\n",
              "      <td>0</td>\n",
              "      <td>Data Science, Machine Learning, Neural Network...</td>\n",
              "      <td>Bachelor of Technology (B.Tech)</td>\n",
              "      <td>Computer Science &amp; Engineering</td>\n",
              "      <td>2019</td>\n",
              "      <td>NaN</td>\n",
              "      <td>85.5</td>\n",
              "      <td>92.20</td>\n",
              "      <td>96.6</td>\n",
              "    </tr>\n",
              "    <tr>\n",
              "      <th>2</th>\n",
              "      <td>3</td>\n",
              "      <td>0</td>\n",
              "      <td>1</td>\n",
              "      <td>2</td>\n",
              "      <td>2</td>\n",
              "      <td>2</td>\n",
              "      <td>0</td>\n",
              "      <td>2</td>\n",
              "      <td>0</td>\n",
              "      <td>0</td>\n",
              "      <td>0</td>\n",
              "      <td>0</td>\n",
              "      <td>0</td>\n",
              "      <td>Algorithms, Data Structures, Python, C Program...</td>\n",
              "      <td>Master of Science (M.Sc)</td>\n",
              "      <td>Computer  Science</td>\n",
              "      <td>2018</td>\n",
              "      <td>79.1</td>\n",
              "      <td>70.0</td>\n",
              "      <td>64.83</td>\n",
              "      <td>77.6</td>\n",
              "    </tr>\n",
              "  </tbody>\n",
              "</table>\n",
              "</div>"
            ],
            "text/plain": [
              "   Python (out of 3)  R Programming (out of 3)  ...  Twelth_12  Tenth_10\n",
              "0                  0                         2  ...        NaN       NaN\n",
              "1                  2                         0  ...      92.20      96.6\n",
              "2                  3                         0  ...      64.83      77.6\n",
              "\n",
              "[3 rows x 21 columns]"
            ]
          },
          "metadata": {
            "tags": []
          },
          "execution_count": 320
        }
      ]
    },
    {
      "cell_type": "code",
      "metadata": {
        "id": "4YC5vzME3a8x",
        "colab_type": "code",
        "outputId": "3f54687e-1976-41b6-b0df-5bdc9352e6aa",
        "colab": {
          "base_uri": "https://localhost:8080/",
          "height": 391
        }
      },
      "source": [
        "data.dtypes"
      ],
      "execution_count": 321,
      "outputs": [
        {
          "output_type": "execute_result",
          "data": {
            "text/plain": [
              "Python (out of 3)               int64\n",
              "R Programming (out of 3)        int64\n",
              "Deep Learning (out of 3)        int64\n",
              "PHP (out of 3)                  int64\n",
              "MySQL (out of 3)                int64\n",
              "HTML (out of 3)                 int64\n",
              "CSS (out of 3)                  int64\n",
              "JavaScript (out of 3)           int64\n",
              "AJAX (out of 3)                 int64\n",
              "Bootstrap (out of 3)            int64\n",
              "MongoDB (out of 3)              int64\n",
              "Node.js (out of 3)              int64\n",
              "ReactJS (out of 3)              int64\n",
              "Other skills                   object\n",
              "Degree                         object\n",
              "Stream                         object\n",
              "Current Year Of Graduation      int64\n",
              "PG                            float64\n",
              "UG                            float64\n",
              "Twelth_12                     float64\n",
              "Tenth_10                      float64\n",
              "dtype: object"
            ]
          },
          "metadata": {
            "tags": []
          },
          "execution_count": 321
        }
      ]
    },
    {
      "cell_type": "code",
      "metadata": {
        "id": "ryuAlTUbBdfz",
        "colab_type": "code",
        "colab": {}
      },
      "source": [
        "#Renaming column without white space\n",
        "data.rename(columns={'Other skills':'Other_skills'},inplace=True)"
      ],
      "execution_count": 0,
      "outputs": []
    },
    {
      "cell_type": "code",
      "metadata": {
        "id": "6XswTP54hATT",
        "colab_type": "code",
        "outputId": "54bd05e1-8448-41d7-9890-e97f6761c342",
        "colab": {
          "base_uri": "https://localhost:8080/",
          "height": 391
        }
      },
      "source": [
        "data.isnull().sum()"
      ],
      "execution_count": 323,
      "outputs": [
        {
          "output_type": "execute_result",
          "data": {
            "text/plain": [
              "Python (out of 3)               0\n",
              "R Programming (out of 3)        0\n",
              "Deep Learning (out of 3)        0\n",
              "PHP (out of 3)                  0\n",
              "MySQL (out of 3)                0\n",
              "HTML (out of 3)                 0\n",
              "CSS (out of 3)                  0\n",
              "JavaScript (out of 3)           0\n",
              "AJAX (out of 3)                 0\n",
              "Bootstrap (out of 3)            0\n",
              "MongoDB (out of 3)              0\n",
              "Node.js (out of 3)              0\n",
              "ReactJS (out of 3)              0\n",
              "Other_skills                   14\n",
              "Degree                         12\n",
              "Stream                         18\n",
              "Current Year Of Graduation      0\n",
              "PG                            289\n",
              "UG                             54\n",
              "Twelth_12                     163\n",
              "Tenth_10                      177\n",
              "dtype: int64"
            ]
          },
          "metadata": {
            "tags": []
          },
          "execution_count": 323
        }
      ]
    },
    {
      "cell_type": "markdown",
      "metadata": {
        "id": "23azvVkifIEc",
        "colab_type": "text"
      },
      "source": [
        "We can see we have few null values"
      ]
    },
    {
      "cell_type": "code",
      "metadata": {
        "id": "JdNQAONSnX9G",
        "colab_type": "code",
        "outputId": "7a4f5b31-7653-4443-dbba-7e298cfb4857",
        "colab": {
          "base_uri": "https://localhost:8080/",
          "height": 34
        }
      },
      "source": [
        "data.shape"
      ],
      "execution_count": 324,
      "outputs": [
        {
          "output_type": "execute_result",
          "data": {
            "text/plain": [
              "(392, 21)"
            ]
          },
          "metadata": {
            "tags": []
          },
          "execution_count": 324
        }
      ]
    },
    {
      "cell_type": "code",
      "metadata": {
        "id": "UuLznM-SnkQ_",
        "colab_type": "code",
        "colab": {}
      },
      "source": [
        "#Filling all null values with mean and mode\n",
        "data['UG'].fillna((data['UG'].mean()), inplace=True)\n",
        "data['Twelth_12'].fillna((data['Twelth_12'].mean()), inplace=True)\n",
        "data['Tenth_10'].fillna((data['Tenth_10'].mean()), inplace=True)\n",
        "data.drop(['PG'],axis=1,inplace=True)\n",
        "data['Degree'].fillna((data['Degree'].mode()[0]), inplace=True)\n",
        "data['Stream'].fillna((data['Stream'].mode()[0]), inplace=True)\n",
        "data[\"Other_skills\"].fillna(\"No other skills\", inplace = True) "
      ],
      "execution_count": 0,
      "outputs": []
    },
    {
      "cell_type": "code",
      "metadata": {
        "id": "SyR6ic-8ofVn",
        "colab_type": "code",
        "colab": {
          "base_uri": "https://localhost:8080/",
          "height": 374
        },
        "outputId": "832bc777-2544-42cf-9f88-9cde169d309e"
      },
      "source": [
        "data.isnull().sum()"
      ],
      "execution_count": 326,
      "outputs": [
        {
          "output_type": "execute_result",
          "data": {
            "text/plain": [
              "Python (out of 3)             0\n",
              "R Programming (out of 3)      0\n",
              "Deep Learning (out of 3)      0\n",
              "PHP (out of 3)                0\n",
              "MySQL (out of 3)              0\n",
              "HTML (out of 3)               0\n",
              "CSS (out of 3)                0\n",
              "JavaScript (out of 3)         0\n",
              "AJAX (out of 3)               0\n",
              "Bootstrap (out of 3)          0\n",
              "MongoDB (out of 3)            0\n",
              "Node.js (out of 3)            0\n",
              "ReactJS (out of 3)            0\n",
              "Other_skills                  0\n",
              "Degree                        0\n",
              "Stream                        0\n",
              "Current Year Of Graduation    0\n",
              "UG                            0\n",
              "Twelth_12                     0\n",
              "Tenth_10                      0\n",
              "dtype: int64"
            ]
          },
          "metadata": {
            "tags": []
          },
          "execution_count": 326
        }
      ]
    },
    {
      "cell_type": "markdown",
      "metadata": {
        "id": "9EbyguuYfZjX",
        "colab_type": "text"
      },
      "source": [
        "It can be observed we have filled all null values"
      ]
    },
    {
      "cell_type": "code",
      "metadata": {
        "id": "3OznOtfFo4eB",
        "colab_type": "code",
        "colab": {
          "base_uri": "https://localhost:8080/",
          "height": 368
        },
        "outputId": "89e791a9-ae93-4086-81b8-07ccd43bc1e0"
      },
      "source": [
        "data.describe()"
      ],
      "execution_count": 327,
      "outputs": [
        {
          "output_type": "execute_result",
          "data": {
            "text/html": [
              "<div>\n",
              "<style scoped>\n",
              "    .dataframe tbody tr th:only-of-type {\n",
              "        vertical-align: middle;\n",
              "    }\n",
              "\n",
              "    .dataframe tbody tr th {\n",
              "        vertical-align: top;\n",
              "    }\n",
              "\n",
              "    .dataframe thead th {\n",
              "        text-align: right;\n",
              "    }\n",
              "</style>\n",
              "<table border=\"1\" class=\"dataframe\">\n",
              "  <thead>\n",
              "    <tr style=\"text-align: right;\">\n",
              "      <th></th>\n",
              "      <th>Python (out of 3)</th>\n",
              "      <th>R Programming (out of 3)</th>\n",
              "      <th>Deep Learning (out of 3)</th>\n",
              "      <th>PHP (out of 3)</th>\n",
              "      <th>MySQL (out of 3)</th>\n",
              "      <th>HTML (out of 3)</th>\n",
              "      <th>CSS (out of 3)</th>\n",
              "      <th>JavaScript (out of 3)</th>\n",
              "      <th>AJAX (out of 3)</th>\n",
              "      <th>Bootstrap (out of 3)</th>\n",
              "      <th>MongoDB (out of 3)</th>\n",
              "      <th>Node.js (out of 3)</th>\n",
              "      <th>ReactJS (out of 3)</th>\n",
              "      <th>Current Year Of Graduation</th>\n",
              "      <th>UG</th>\n",
              "      <th>Twelth_12</th>\n",
              "      <th>Tenth_10</th>\n",
              "    </tr>\n",
              "  </thead>\n",
              "  <tbody>\n",
              "    <tr>\n",
              "      <th>count</th>\n",
              "      <td>392.000000</td>\n",
              "      <td>392.000000</td>\n",
              "      <td>392.000000</td>\n",
              "      <td>392.000000</td>\n",
              "      <td>392.000000</td>\n",
              "      <td>392.000000</td>\n",
              "      <td>392.000000</td>\n",
              "      <td>392.000000</td>\n",
              "      <td>392.000000</td>\n",
              "      <td>392.000000</td>\n",
              "      <td>392.000000</td>\n",
              "      <td>392.000000</td>\n",
              "      <td>392.000000</td>\n",
              "      <td>392.000000</td>\n",
              "      <td>392.000000</td>\n",
              "      <td>392.000000</td>\n",
              "      <td>392.000000</td>\n",
              "    </tr>\n",
              "    <tr>\n",
              "      <th>mean</th>\n",
              "      <td>1.375000</td>\n",
              "      <td>0.566327</td>\n",
              "      <td>0.461735</td>\n",
              "      <td>0.612245</td>\n",
              "      <td>0.403061</td>\n",
              "      <td>1.346939</td>\n",
              "      <td>1.045918</td>\n",
              "      <td>0.770408</td>\n",
              "      <td>0.015306</td>\n",
              "      <td>0.265306</td>\n",
              "      <td>0.035714</td>\n",
              "      <td>0.086735</td>\n",
              "      <td>0.178571</td>\n",
              "      <td>2018.867347</td>\n",
              "      <td>70.738305</td>\n",
              "      <td>67.691004</td>\n",
              "      <td>53.623674</td>\n",
              "    </tr>\n",
              "    <tr>\n",
              "      <th>std</th>\n",
              "      <td>0.975237</td>\n",
              "      <td>0.905052</td>\n",
              "      <td>0.842336</td>\n",
              "      <td>0.911789</td>\n",
              "      <td>0.837602</td>\n",
              "      <td>1.071386</td>\n",
              "      <td>1.022976</td>\n",
              "      <td>0.966626</td>\n",
              "      <td>0.122924</td>\n",
              "      <td>0.715928</td>\n",
              "      <td>0.255377</td>\n",
              "      <td>0.401567</td>\n",
              "      <td>0.499360</td>\n",
              "      <td>2.280296</td>\n",
              "      <td>12.367937</td>\n",
              "      <td>18.156550</td>\n",
              "      <td>25.820766</td>\n",
              "    </tr>\n",
              "    <tr>\n",
              "      <th>min</th>\n",
              "      <td>0.000000</td>\n",
              "      <td>0.000000</td>\n",
              "      <td>0.000000</td>\n",
              "      <td>0.000000</td>\n",
              "      <td>0.000000</td>\n",
              "      <td>0.000000</td>\n",
              "      <td>0.000000</td>\n",
              "      <td>0.000000</td>\n",
              "      <td>0.000000</td>\n",
              "      <td>0.000000</td>\n",
              "      <td>0.000000</td>\n",
              "      <td>0.000000</td>\n",
              "      <td>0.000000</td>\n",
              "      <td>2004.000000</td>\n",
              "      <td>7.500000</td>\n",
              "      <td>4.000000</td>\n",
              "      <td>6.200000</td>\n",
              "    </tr>\n",
              "    <tr>\n",
              "      <th>25%</th>\n",
              "      <td>0.000000</td>\n",
              "      <td>0.000000</td>\n",
              "      <td>0.000000</td>\n",
              "      <td>0.000000</td>\n",
              "      <td>0.000000</td>\n",
              "      <td>0.000000</td>\n",
              "      <td>0.000000</td>\n",
              "      <td>0.000000</td>\n",
              "      <td>0.000000</td>\n",
              "      <td>0.000000</td>\n",
              "      <td>0.000000</td>\n",
              "      <td>0.000000</td>\n",
              "      <td>0.000000</td>\n",
              "      <td>2018.750000</td>\n",
              "      <td>65.000000</td>\n",
              "      <td>67.691004</td>\n",
              "      <td>53.623674</td>\n",
              "    </tr>\n",
              "    <tr>\n",
              "      <th>50%</th>\n",
              "      <td>2.000000</td>\n",
              "      <td>0.000000</td>\n",
              "      <td>0.000000</td>\n",
              "      <td>0.000000</td>\n",
              "      <td>0.000000</td>\n",
              "      <td>2.000000</td>\n",
              "      <td>1.000000</td>\n",
              "      <td>0.000000</td>\n",
              "      <td>0.000000</td>\n",
              "      <td>0.000000</td>\n",
              "      <td>0.000000</td>\n",
              "      <td>0.000000</td>\n",
              "      <td>0.000000</td>\n",
              "      <td>2019.000000</td>\n",
              "      <td>70.738305</td>\n",
              "      <td>67.691004</td>\n",
              "      <td>53.623674</td>\n",
              "    </tr>\n",
              "    <tr>\n",
              "      <th>75%</th>\n",
              "      <td>2.000000</td>\n",
              "      <td>1.000000</td>\n",
              "      <td>1.000000</td>\n",
              "      <td>1.000000</td>\n",
              "      <td>0.000000</td>\n",
              "      <td>2.000000</td>\n",
              "      <td>2.000000</td>\n",
              "      <td>2.000000</td>\n",
              "      <td>0.000000</td>\n",
              "      <td>0.000000</td>\n",
              "      <td>0.000000</td>\n",
              "      <td>0.000000</td>\n",
              "      <td>0.000000</td>\n",
              "      <td>2020.000000</td>\n",
              "      <td>77.000000</td>\n",
              "      <td>76.422500</td>\n",
              "      <td>72.022500</td>\n",
              "    </tr>\n",
              "    <tr>\n",
              "      <th>max</th>\n",
              "      <td>3.000000</td>\n",
              "      <td>3.000000</td>\n",
              "      <td>3.000000</td>\n",
              "      <td>3.000000</td>\n",
              "      <td>3.000000</td>\n",
              "      <td>3.000000</td>\n",
              "      <td>3.000000</td>\n",
              "      <td>3.000000</td>\n",
              "      <td>1.000000</td>\n",
              "      <td>3.000000</td>\n",
              "      <td>2.000000</td>\n",
              "      <td>2.000000</td>\n",
              "      <td>2.000000</td>\n",
              "      <td>2023.000000</td>\n",
              "      <td>100.000000</td>\n",
              "      <td>98.000000</td>\n",
              "      <td>97.200000</td>\n",
              "    </tr>\n",
              "  </tbody>\n",
              "</table>\n",
              "</div>"
            ],
            "text/plain": [
              "       Python (out of 3)  R Programming (out of 3)  ...   Twelth_12    Tenth_10\n",
              "count         392.000000                392.000000  ...  392.000000  392.000000\n",
              "mean            1.375000                  0.566327  ...   67.691004   53.623674\n",
              "std             0.975237                  0.905052  ...   18.156550   25.820766\n",
              "min             0.000000                  0.000000  ...    4.000000    6.200000\n",
              "25%             0.000000                  0.000000  ...   67.691004   53.623674\n",
              "50%             2.000000                  0.000000  ...   67.691004   53.623674\n",
              "75%             2.000000                  1.000000  ...   76.422500   72.022500\n",
              "max             3.000000                  3.000000  ...   98.000000   97.200000\n",
              "\n",
              "[8 rows x 17 columns]"
            ]
          },
          "metadata": {
            "tags": []
          },
          "execution_count": 327
        }
      ]
    },
    {
      "cell_type": "code",
      "metadata": {
        "id": "Bp-izJ1wpMeY",
        "colab_type": "code",
        "colab": {}
      },
      "source": [
        "Other_Skills_unique = []\n",
        "for i in data.Other_skills:\n",
        "  #if not isinstance(i, float):\n",
        "  for j in i.split(','):\n",
        "    j = j.strip()\n",
        "    Other_Skills_unique.append(j)"
      ],
      "execution_count": 0,
      "outputs": []
    },
    {
      "cell_type": "code",
      "metadata": {
        "id": "XIPl3LNImv2z",
        "colab_type": "code",
        "colab": {
          "base_uri": "https://localhost:8080/",
          "height": 34
        },
        "outputId": "e55ebf59-6f91-4168-b2bb-52152aab7b22"
      },
      "source": [
        "import collections\n",
        "ctr = collections.Counter(Other_Skills_unique)\n",
        "print(ctr.most_common(5))"
      ],
      "execution_count": 329,
      "outputs": [
        {
          "output_type": "stream",
          "text": [
            "[('Python', 287), ('Java', 170), ('Machine Learning', 168), ('C Programming', 155), ('HTML', 151)]\n"
          ],
          "name": "stdout"
        }
      ]
    },
    {
      "cell_type": "markdown",
      "metadata": {
        "id": "xY9BteL3nGYS",
        "colab_type": "text"
      },
      "source": [
        "From above we can conclude that Python is the most other skill"
      ]
    },
    {
      "cell_type": "code",
      "metadata": {
        "id": "l9fQbr6iKT3f",
        "colab_type": "code",
        "outputId": "ada153eb-56cd-4c4d-9543-ec5e032b863e",
        "colab": {
          "base_uri": "https://localhost:8080/",
          "height": 34
        }
      },
      "source": [
        "data.shape"
      ],
      "execution_count": 330,
      "outputs": [
        {
          "output_type": "execute_result",
          "data": {
            "text/plain": [
              "(392, 20)"
            ]
          },
          "metadata": {
            "tags": []
          },
          "execution_count": 330
        }
      ]
    },
    {
      "cell_type": "code",
      "metadata": {
        "id": "q9Y_xGsiM3MV",
        "colab_type": "code",
        "outputId": "9a2cdb53-0011-4bb3-e64b-c009f1d03136",
        "colab": {
          "base_uri": "https://localhost:8080/",
          "height": 374
        }
      },
      "source": [
        "data.dtypes"
      ],
      "execution_count": 331,
      "outputs": [
        {
          "output_type": "execute_result",
          "data": {
            "text/plain": [
              "Python (out of 3)               int64\n",
              "R Programming (out of 3)        int64\n",
              "Deep Learning (out of 3)        int64\n",
              "PHP (out of 3)                  int64\n",
              "MySQL (out of 3)                int64\n",
              "HTML (out of 3)                 int64\n",
              "CSS (out of 3)                  int64\n",
              "JavaScript (out of 3)           int64\n",
              "AJAX (out of 3)                 int64\n",
              "Bootstrap (out of 3)            int64\n",
              "MongoDB (out of 3)              int64\n",
              "Node.js (out of 3)              int64\n",
              "ReactJS (out of 3)              int64\n",
              "Other_skills                   object\n",
              "Degree                         object\n",
              "Stream                         object\n",
              "Current Year Of Graduation      int64\n",
              "UG                            float64\n",
              "Twelth_12                     float64\n",
              "Tenth_10                      float64\n",
              "dtype: object"
            ]
          },
          "metadata": {
            "tags": []
          },
          "execution_count": 331
        }
      ]
    },
    {
      "cell_type": "code",
      "metadata": {
        "id": "muqMIEH3Nkms",
        "colab_type": "code",
        "outputId": "ea1b2a14-a33f-4cf0-dbc9-27c93fb4d90f",
        "colab": {
          "base_uri": "https://localhost:8080/",
          "height": 561
        }
      },
      "source": [
        "data.Degree.value_counts()"
      ],
      "execution_count": 332,
      "outputs": [
        {
          "output_type": "execute_result",
          "data": {
            "text/plain": [
              "Bachelor of Technology (B.Tech)                          122\n",
              "Bachelor of Engineering (B.E)                             84\n",
              "Master of Computer Applications (MCA)                     70\n",
              "B.Tech (Hons.)                                            25\n",
              "Master of Technology (M.Tech)                             19\n",
              "Master of Science (M.Sc)                                  14\n",
              "Bachelor of Computer Applications (BCA)                   10\n",
              "Post Graduate Programme (PGP)                              8\n",
              "PG Diploma in Data Science                                 5\n",
              "Integrated M.Sc.                                           5\n",
              "Bachelor of Science (B.Sc)                                 5\n",
              "MBA                                                        2\n",
              "Integrated B.Tech & M.Tech                                 2\n",
              "Integrated B.Tech                                          2\n",
              "Post Graduate Diploma in Management (P.G.D.M.)             2\n",
              "Bachelor of Commerce (B.Com)                               2\n",
              "Post Graduate Program in Business Analytics                1\n",
              "Bachelor of Computer Science (B.C.S.)                      1\n",
              "Integrated B.E & M.Tech                                    1\n",
              "Master of Science (M.Sc) (Hons.)                           1\n",
              "Bachelor of Commerce (B.Com) (Hons.)                       1\n",
              "Master of Science (M.S.)                                   1\n",
              "Post Graduate Diploma in Big Data Analytics (PG-DBDA)      1\n",
              "B.Com. Professional                                        1\n",
              "Bachelor of Business Management (B.B.M.)                   1\n",
              "Post Graduate Diploma                                      1\n",
              "Bachelor of Business Administration (B.B.A.)               1\n",
              "Bachelor of Engineering (B.E) (Hons.)                      1\n",
              "Executive MBA                                              1\n",
              "Bachelor of Arts (B.A.) (Hons.)                            1\n",
              "Integrated M.Tech                                          1\n",
              "Name: Degree, dtype: int64"
            ]
          },
          "metadata": {
            "tags": []
          },
          "execution_count": 332
        }
      ]
    },
    {
      "cell_type": "code",
      "metadata": {
        "id": "UVJUnGrlNkZP",
        "colab_type": "code",
        "outputId": "f68d5dbd-efe7-4899-f083-01fc10e8e3e5",
        "colab": {
          "base_uri": "https://localhost:8080/",
          "height": 221
        }
      },
      "source": [
        "data.Stream.value_counts()"
      ],
      "execution_count": 333,
      "outputs": [
        {
          "output_type": "execute_result",
          "data": {
            "text/plain": [
              "Computer  Science                         82\n",
              "Electronics and Communication             46\n",
              "Computer Science & Engineering            45\n",
              "Computer Application                      35\n",
              "Information Technology                    20\n",
              "                                          ..\n",
              "Computer  Applications                     1\n",
              "Data Science, Data Analytics, Big Data     1\n",
              "Engineering Design                         1\n",
              "Sensor Systems Technology                  1\n",
              "Computer Science &amp;engineering          1\n",
              "Name: Stream, Length: 78, dtype: int64"
            ]
          },
          "metadata": {
            "tags": []
          },
          "execution_count": 333
        }
      ]
    },
    {
      "cell_type": "code",
      "metadata": {
        "id": "V2V7bX18oCKI",
        "colab_type": "code",
        "colab": {}
      },
      "source": [
        "#Dropping other skills and current city columns\n",
        "data.drop(['Other_skills'],axis=1,inplace=True)"
      ],
      "execution_count": 0,
      "outputs": []
    },
    {
      "cell_type": "code",
      "metadata": {
        "id": "RElaP_5lNkKi",
        "colab_type": "code",
        "outputId": "03b0761e-57c8-4eb4-fd8a-5d09325bd1b9",
        "colab": {
          "base_uri": "https://localhost:8080/",
          "height": 309
        }
      },
      "source": [
        "#Using label encoding\n",
        "from sklearn.preprocessing import LabelEncoder\n",
        "le=LabelEncoder()\n",
        "Var = ['Degree','Stream']\n",
        "for i in Var:\n",
        "  data[[i]]=le.fit_transform(data[[i]])\n",
        "data.head()"
      ],
      "execution_count": 335,
      "outputs": [
        {
          "output_type": "stream",
          "text": [
            "/usr/local/lib/python3.6/dist-packages/sklearn/preprocessing/_label.py:251: DataConversionWarning: A column-vector y was passed when a 1d array was expected. Please change the shape of y to (n_samples, ), for example using ravel().\n",
            "  y = column_or_1d(y, warn=True)\n"
          ],
          "name": "stderr"
        },
        {
          "output_type": "execute_result",
          "data": {
            "text/html": [
              "<div>\n",
              "<style scoped>\n",
              "    .dataframe tbody tr th:only-of-type {\n",
              "        vertical-align: middle;\n",
              "    }\n",
              "\n",
              "    .dataframe tbody tr th {\n",
              "        vertical-align: top;\n",
              "    }\n",
              "\n",
              "    .dataframe thead th {\n",
              "        text-align: right;\n",
              "    }\n",
              "</style>\n",
              "<table border=\"1\" class=\"dataframe\">\n",
              "  <thead>\n",
              "    <tr style=\"text-align: right;\">\n",
              "      <th></th>\n",
              "      <th>Python (out of 3)</th>\n",
              "      <th>R Programming (out of 3)</th>\n",
              "      <th>Deep Learning (out of 3)</th>\n",
              "      <th>PHP (out of 3)</th>\n",
              "      <th>MySQL (out of 3)</th>\n",
              "      <th>HTML (out of 3)</th>\n",
              "      <th>CSS (out of 3)</th>\n",
              "      <th>JavaScript (out of 3)</th>\n",
              "      <th>AJAX (out of 3)</th>\n",
              "      <th>Bootstrap (out of 3)</th>\n",
              "      <th>MongoDB (out of 3)</th>\n",
              "      <th>Node.js (out of 3)</th>\n",
              "      <th>ReactJS (out of 3)</th>\n",
              "      <th>Degree</th>\n",
              "      <th>Stream</th>\n",
              "      <th>Current Year Of Graduation</th>\n",
              "      <th>UG</th>\n",
              "      <th>Twelth_12</th>\n",
              "      <th>Tenth_10</th>\n",
              "    </tr>\n",
              "  </thead>\n",
              "  <tbody>\n",
              "    <tr>\n",
              "      <th>0</th>\n",
              "      <td>0</td>\n",
              "      <td>2</td>\n",
              "      <td>0</td>\n",
              "      <td>2</td>\n",
              "      <td>0</td>\n",
              "      <td>2</td>\n",
              "      <td>3</td>\n",
              "      <td>2</td>\n",
              "      <td>0</td>\n",
              "      <td>2</td>\n",
              "      <td>0</td>\n",
              "      <td>0</td>\n",
              "      <td>0</td>\n",
              "      <td>11</td>\n",
              "      <td>62</td>\n",
              "      <td>2017</td>\n",
              "      <td>70.738305</td>\n",
              "      <td>67.691004</td>\n",
              "      <td>53.623674</td>\n",
              "    </tr>\n",
              "    <tr>\n",
              "      <th>1</th>\n",
              "      <td>2</td>\n",
              "      <td>0</td>\n",
              "      <td>0</td>\n",
              "      <td>2</td>\n",
              "      <td>2</td>\n",
              "      <td>2</td>\n",
              "      <td>2</td>\n",
              "      <td>2</td>\n",
              "      <td>0</td>\n",
              "      <td>0</td>\n",
              "      <td>0</td>\n",
              "      <td>0</td>\n",
              "      <td>0</td>\n",
              "      <td>12</td>\n",
              "      <td>22</td>\n",
              "      <td>2019</td>\n",
              "      <td>85.500000</td>\n",
              "      <td>92.200000</td>\n",
              "      <td>96.600000</td>\n",
              "    </tr>\n",
              "    <tr>\n",
              "      <th>2</th>\n",
              "      <td>3</td>\n",
              "      <td>0</td>\n",
              "      <td>1</td>\n",
              "      <td>2</td>\n",
              "      <td>2</td>\n",
              "      <td>2</td>\n",
              "      <td>0</td>\n",
              "      <td>2</td>\n",
              "      <td>0</td>\n",
              "      <td>0</td>\n",
              "      <td>0</td>\n",
              "      <td>0</td>\n",
              "      <td>0</td>\n",
              "      <td>22</td>\n",
              "      <td>17</td>\n",
              "      <td>2018</td>\n",
              "      <td>70.000000</td>\n",
              "      <td>64.830000</td>\n",
              "      <td>77.600000</td>\n",
              "    </tr>\n",
              "    <tr>\n",
              "      <th>3</th>\n",
              "      <td>2</td>\n",
              "      <td>0</td>\n",
              "      <td>2</td>\n",
              "      <td>1</td>\n",
              "      <td>0</td>\n",
              "      <td>2</td>\n",
              "      <td>0</td>\n",
              "      <td>0</td>\n",
              "      <td>0</td>\n",
              "      <td>0</td>\n",
              "      <td>0</td>\n",
              "      <td>0</td>\n",
              "      <td>0</td>\n",
              "      <td>9</td>\n",
              "      <td>42</td>\n",
              "      <td>2019</td>\n",
              "      <td>68.600000</td>\n",
              "      <td>76.000000</td>\n",
              "      <td>84.320000</td>\n",
              "    </tr>\n",
              "    <tr>\n",
              "      <th>4</th>\n",
              "      <td>2</td>\n",
              "      <td>0</td>\n",
              "      <td>0</td>\n",
              "      <td>2</td>\n",
              "      <td>0</td>\n",
              "      <td>2</td>\n",
              "      <td>1</td>\n",
              "      <td>1</td>\n",
              "      <td>0</td>\n",
              "      <td>0</td>\n",
              "      <td>2</td>\n",
              "      <td>2</td>\n",
              "      <td>2</td>\n",
              "      <td>12</td>\n",
              "      <td>67</td>\n",
              "      <td>2018</td>\n",
              "      <td>63.800000</td>\n",
              "      <td>65.200000</td>\n",
              "      <td>68.800000</td>\n",
              "    </tr>\n",
              "  </tbody>\n",
              "</table>\n",
              "</div>"
            ],
            "text/plain": [
              "   Python (out of 3)  R Programming (out of 3)  ...  Twelth_12   Tenth_10\n",
              "0                  0                         2  ...  67.691004  53.623674\n",
              "1                  2                         0  ...  92.200000  96.600000\n",
              "2                  3                         0  ...  64.830000  77.600000\n",
              "3                  2                         0  ...  76.000000  84.320000\n",
              "4                  2                         0  ...  65.200000  68.800000\n",
              "\n",
              "[5 rows x 19 columns]"
            ]
          },
          "metadata": {
            "tags": []
          },
          "execution_count": 335
        }
      ]
    },
    {
      "cell_type": "code",
      "metadata": {
        "id": "Up-mIB4B4NF0",
        "colab_type": "code",
        "colab": {
          "base_uri": "https://localhost:8080/",
          "height": 938
        },
        "outputId": "15f50a61-9961-40cf-f13e-2e8f75b23ffe"
      },
      "source": [
        "import seaborn as sns \n",
        "matrix=data.corr()\n",
        "f, ax= plt.subplots(figsize=(15,15))\n",
        "sns.heatmap(matrix,vmax=0.8,square=True,cmap=\"BuPu\",annot=True)"
      ],
      "execution_count": 351,
      "outputs": [
        {
          "output_type": "execute_result",
          "data": {
            "text/plain": [
              "<matplotlib.axes._subplots.AxesSubplot at 0x7f9bcc6a4cc0>"
            ]
          },
          "metadata": {
            "tags": []
          },
          "execution_count": 351
        },
        {
          "output_type": "display_data",
          "data": {
            "image/png": "[encoded data removed]",
            "text/plain": [
              "<Figure size 1080x1080 with 2 Axes>"
            ]
          },
          "metadata": {
            "tags": []
          }
        }
      ]
    },
    {
      "cell_type": "code",
      "metadata": {
        "id": "-8668oVnv7mw",
        "colab_type": "code",
        "outputId": "562c67a2-20ac-41b6-a065-9cacd290dccd",
        "colab": {
          "base_uri": "https://localhost:8080/",
          "height": 377
        }
      },
      "source": [
        "from sklearn.cluster import KMeans #Using KMean clustering for unsuperised data\n",
        "\n",
        "# Number of clusters\n",
        "kmeans = KMeans(n_clusters=2)\n",
        "# Fitting the input data\n",
        "kmeans = kmeans.fit(data_scaled)\n",
        "# Getting the cluster labels\n",
        "labels = kmeans.predict(data_scaled)\n",
        "# Centroid values\n",
        "centroids = kmeans.cluster_centers_\n",
        "print(centroids)\n",
        "print(labels)\n",
        "print(mapped_predictions)"
      ],
      "execution_count": 350,
      "outputs": [
        {
          "output_type": "stream",
          "text": [
            "[[ 0.11680181 -0.042302   -0.05468502  0.58621556  0.49868178  0.77833841\n",
            "   0.91184981  0.69755307  0.14989106  0.44609399  0.16834828  0.20397403\n",
            "   0.20517898  0.17327163 -0.03885827  0.08044965 -0.06033176  0.03773771\n",
            "   0.08404094]\n",
            " [-0.09715291  0.03518578  0.04548567 -0.48759986 -0.41479139 -0.64740298\n",
            "  -0.75845452 -0.58020769 -0.12467575 -0.37105014 -0.14002801 -0.16966064\n",
            "  -0.17066289 -0.14412313  0.03232136 -0.06691606  0.05018249 -0.03138931\n",
            "  -0.06990321]]\n",
            "[0 0 0 1 0 0 1 1 0 0 1 1 0 1 1 0 0 0 1 0 0 1 1 1 0 1 0 1 0 0 1 1 1 0 0 1 0\n",
            " 0 0 1 1 0 1 1 1 1 0 1 0 0 1 0 0 1 0 1 1 0 1 0 1 1 1 1 1 0 0 1 1 1 0 0 1 0\n",
            " 1 0 1 0 1 1 0 1 0 1 1 1 1 1 0 0 1 1 1 0 0 1 0 1 0 0 0 0 0 1 1 1 1 0 0 1 0\n",
            " 1 0 1 1 1 0 1 1 1 0 0 0 0 0 1 1 1 1 0 1 0 1 1 0 0 0 1 0 0 0 1 1 1 0 1 1 1\n",
            " 1 1 1 1 1 0 0 1 0 0 0 1 1 0 1 1 1 1 0 1 0 0 1 0 1 1 1 1 1 0 0 1 0 0 0 1 1\n",
            " 0 1 1 1 1 0 1 0 0 1 0 1 1 1 1 1 0 0 1 0 0 0 1 1 0 1 1 1 1 0 1 0 0 1 0 0 0\n",
            " 0 1 0 0 1 1 1 0 1 1 0 1 1 0 0 0 1 0 0 1 1 1 0 1 0 1 0 0 1 1 1 0 0 1 0 0 0\n",
            " 1 1 0 1 1 1 1 0 1 0 0 1 0 0 1 0 1 1 0 1 0 1 1 1 1 1 0 0 1 1 1 0 0 1 0 1 0\n",
            " 1 0 1 1 0 1 0 1 1 1 1 1 0 0 1 1 1 0 0 1 0 1 0 0 0 0 0 1 1 1 1 0 0 1 0 1 0\n",
            " 1 1 1 0 1 1 1 0 0 0 0 0 1 1 1 1 0 1 0 1 1 0 0 0 1 0 0 0 1 1 1 0 1 0 1 1 1\n",
            " 1 1 1 0 0 1 0 0 0 1 1 0 1 1 1 1 0 1 0 0 1 0]\n",
            "['Web Development', 'Web Development', 'Web Development', 'Data Scientist', 'Web Development', 'Web Development', 'Data Scientist', 'Data Scientist', 'Web Development', 'Web Development', 'Data Scientist', 'Data Scientist', 'Web Development', 'Data Scientist', 'Data Scientist', 'Web Development', 'Web Development', 'Data Scientist', 'Data Scientist', 'Web Development', 'Web Development', 'Data Scientist', 'Data Scientist', 'Data Scientist', 'Web Development', 'Data Scientist', 'Data Scientist', 'Data Scientist', 'Web Development', 'Web Development', 'Data Scientist', 'Data Scientist', 'Data Scientist', 'Web Development', 'Web Development', 'Data Scientist', 'Web Development', 'Web Development', 'Web Development', 'Data Scientist', 'Data Scientist', 'Web Development', 'Data Scientist', 'Data Scientist', 'Data Scientist', 'Data Scientist', 'Web Development', 'Data Scientist', 'Web Development', 'Data Scientist', 'Data Scientist', 'Web Development', 'Web Development', 'Data Scientist', 'Web Development', 'Data Scientist', 'Data Scientist', 'Web Development', 'Data Scientist', 'Web Development', 'Data Scientist', 'Data Scientist', 'Data Scientist', 'Data Scientist', 'Data Scientist', 'Web Development', 'Web Development', 'Data Scientist', 'Data Scientist', 'Data Scientist', 'Web Development', 'Web Development', 'Data Scientist', 'Web Development', 'Data Scientist', 'Web Development', 'Data Scientist', 'Web Development', 'Data Scientist', 'Data Scientist', 'Web Development', 'Data Scientist', 'Web Development', 'Data Scientist', 'Data Scientist', 'Data Scientist', 'Data Scientist', 'Data Scientist', 'Web Development', 'Web Development', 'Data Scientist', 'Data Scientist', 'Data Scientist', 'Web Development', 'Web Development', 'Data Scientist', 'Web Development', 'Data Scientist', 'Web Development', 'Web Development', 'Web Development', 'Web Development', 'Data Scientist', 'Data Scientist', 'Data Scientist', 'Data Scientist', 'Data Scientist', 'Web Development', 'Data Scientist', 'Data Scientist', 'Web Development', 'Data Scientist', 'Web Development', 'Data Scientist', 'Data Scientist', 'Data Scientist', 'Web Development', 'Data Scientist', 'Data Scientist', 'Data Scientist', 'Web Development', 'Web Development', 'Web Development', 'Web Development', 'Web Development', 'Data Scientist', 'Data Scientist', 'Data Scientist', 'Data Scientist', 'Web Development', 'Data Scientist', 'Web Development', 'Data Scientist', 'Data Scientist', 'Web Development', 'Web Development', 'Web Development', 'Data Scientist', 'Web Development', 'Web Development', 'Web Development', 'Data Scientist', 'Data Scientist', 'Data Scientist', 'Web Development', 'Data Scientist', 'Data Scientist', 'Data Scientist', 'Data Scientist', 'Data Scientist', 'Data Scientist', 'Data Scientist', 'Data Scientist', 'Web Development', 'Web Development', 'Data Scientist', 'Web Development', 'Web Development', 'Web Development', 'Data Scientist', 'Data Scientist', 'Web Development', 'Data Scientist', 'Data Scientist', 'Data Scientist', 'Data Scientist', 'Web Development', 'Data Scientist', 'Web Development', 'Data Scientist', 'Data Scientist', 'Web Development', 'Data Scientist', 'Data Scientist', 'Data Scientist', 'Data Scientist', 'Data Scientist', 'Web Development', 'Web Development', 'Data Scientist', 'Web Development', 'Web Development', 'Web Development', 'Data Scientist', 'Data Scientist', 'Web Development', 'Data Scientist', 'Data Scientist', 'Data Scientist', 'Data Scientist', 'Web Development', 'Data Scientist', 'Web Development', 'Data Scientist', 'Data Scientist', 'Web Development', 'Data Scientist', 'Data Scientist', 'Data Scientist', 'Data Scientist', 'Data Scientist', 'Web Development', 'Web Development', 'Data Scientist', 'Web Development', 'Web Development', 'Web Development', 'Data Scientist', 'Data Scientist', 'Web Development', 'Data Scientist', 'Data Scientist', 'Data Scientist', 'Data Scientist', 'Web Development', 'Data Scientist', 'Web Development', 'Data Scientist', 'Data Scientist', 'Web Development', 'Web Development', 'Web Development', 'Web Development', 'Data Scientist', 'Web Development', 'Web Development', 'Data Scientist', 'Data Scientist', 'Data Scientist', 'Web Development', 'Data Scientist', 'Data Scientist', 'Web Development', 'Data Scientist', 'Data Scientist', 'Web Development', 'Web Development', 'Web Development', 'Data Scientist', 'Web Development', 'Web Development', 'Data Scientist', 'Data Scientist', 'Data Scientist', 'Web Development', 'Data Scientist', 'Data Scientist', 'Data Scientist', 'Web Development', 'Web Development', 'Data Scientist', 'Data Scientist', 'Data Scientist', 'Web Development', 'Web Development', 'Data Scientist', 'Web Development', 'Web Development', 'Web Development', 'Data Scientist', 'Data Scientist', 'Web Development', 'Data Scientist', 'Data Scientist', 'Data Scientist', 'Data Scientist', 'Web Development', 'Data Scientist', 'Web Development', 'Data Scientist', 'Data Scientist', 'Web Development', 'Web Development', 'Data Scientist', 'Web Development', 'Data Scientist', 'Data Scientist', 'Web Development', 'Data Scientist', 'Web Development', 'Data Scientist', 'Data Scientist', 'Data Scientist', 'Data Scientist', 'Data Scientist', 'Web Development', 'Web Development', 'Data Scientist', 'Data Scientist', 'Data Scientist', 'Web Development', 'Web Development', 'Data Scientist', 'Web Development', 'Data Scientist', 'Web Development', 'Data Scientist', 'Web Development', 'Data Scientist', 'Data Scientist', 'Web Development', 'Data Scientist', 'Web Development', 'Data Scientist', 'Data Scientist', 'Data Scientist', 'Data Scientist', 'Data Scientist', 'Web Development', 'Web Development', 'Data Scientist', 'Data Scientist', 'Data Scientist', 'Web Development', 'Web Development', 'Data Scientist', 'Web Development', 'Data Scientist', 'Web Development', 'Web Development', 'Web Development', 'Web Development', 'Data Scientist', 'Data Scientist', 'Data Scientist', 'Data Scientist', 'Data Scientist', 'Web Development', 'Data Scientist', 'Data Scientist', 'Web Development', 'Data Scientist', 'Web Development', 'Data Scientist', 'Data Scientist', 'Data Scientist', 'Web Development', 'Data Scientist', 'Data Scientist', 'Data Scientist', 'Web Development', 'Web Development', 'Web Development', 'Web Development', 'Web Development', 'Data Scientist', 'Data Scientist', 'Data Scientist', 'Data Scientist', 'Web Development', 'Data Scientist', 'Web Development', 'Data Scientist', 'Data Scientist', 'Web Development', 'Web Development', 'Web Development', 'Data Scientist', 'Web Development', 'Web Development', 'Web Development', 'Data Scientist', 'Data Scientist', 'Data Scientist', 'Web Development', 'Data Scientist', 'Data Scientist', 'Data Scientist', 'Data Scientist', 'Data Scientist', 'Data Scientist', 'Data Scientist', 'Data Scientist', 'Web Development', 'Web Development', 'Data Scientist', 'Web Development', 'Web Development', 'Web Development', 'Data Scientist', 'Data Scientist', 'Web Development', 'Data Scientist', 'Data Scientist', 'Data Scientist', 'Data Scientist', 'Web Development', 'Data Scientist', 'Web Development', 'Data Scientist', 'Data Scientist', 'Web Development']\n"
          ],
          "name": "stdout"
        }
      ]
    },
    {
      "cell_type": "code",
      "metadata": {
        "id": "N8pPR3ozZwnK",
        "colab_type": "code",
        "colab": {}
      },
      "source": [
        "mapping_dict = { 0: 'Web Development',1:'Data Scientist'}"
      ],
      "execution_count": 0,
      "outputs": []
    },
    {
      "cell_type": "code",
      "metadata": {
        "id": "3kE5vA8jZwLS",
        "colab_type": "code",
        "colab": {}
      },
      "source": [
        "mapped_predictions = [ mapping_dict[x] for x in labels]"
      ],
      "execution_count": 0,
      "outputs": []
    },
    {
      "cell_type": "markdown",
      "metadata": {
        "id": "urVs4LXx2cg4",
        "colab_type": "text"
      },
      "source": [
        "# Input values"
      ]
    },
    {
      "cell_type": "code",
      "metadata": {
        "id": "1P_Sm03WueR7",
        "colab_type": "code",
        "colab": {
          "base_uri": "https://localhost:8080/",
          "height": 34
        },
        "outputId": "17235ed6-f2bc-488c-8594-e3dc2ed1d8e0"
      },
      "source": [
        "import numpy as np\n",
        "sample_test=np.array([0,0,0,3,0,3,3,3,3,3,3,3,0,1,0,2017,72,70,80])\n",
        "second_test=sample_test.reshape(1, -1)\n",
        "Final=kmeans.predict(second_test)\n",
        "if Final==0:\n",
        "  print(\"Data scientist\")\n",
        "else:\n",
        "  print(\"Web development\")"
      ],
      "execution_count": 352,
      "outputs": [
        {
          "output_type": "stream",
          "text": [
            "Data scientist\n"
          ],
          "name": "stdout"
        }
      ]
    },
    {
      "cell_type": "code",
      "metadata": {
        "id": "ZQG5joeAtcK9",
        "colab_type": "code",
        "colab": {}
      },
      "source": [
        ""
      ],
      "execution_count": 0,
      "outputs": []
    }
  ]
}